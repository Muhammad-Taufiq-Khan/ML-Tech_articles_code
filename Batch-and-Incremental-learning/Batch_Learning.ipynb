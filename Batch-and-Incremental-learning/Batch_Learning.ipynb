{
 "cells": [
  {
   "cell_type": "markdown",
   "metadata": {},
   "source": [
    "# Import Dependencies"
   ]
  },
  {
   "cell_type": "code",
   "execution_count": 12,
   "metadata": {},
   "outputs": [],
   "source": [
    "import pandas as pd\n",
    "from sklearn.model_selection import train_test_split, StratifiedKFold\n",
    "from sklearn.ensemble import RandomForestClassifier\n",
    "from sklearn.metrics import accuracy_score, f1_score, classification_report\n",
    "from statistics import mean, stdev\n",
    "import numpy as np "
   ]
  },
  {
   "cell_type": "markdown",
   "metadata": {},
   "source": [
    "# Fetch data, separate featres & class, and Split dataset"
   ]
  },
  {
   "cell_type": "code",
   "execution_count": 13,
   "metadata": {},
   "outputs": [],
   "source": [
    "path = \"https://raw.githubusercontent.com/scikit-multiflow/streaming-datasets/master/elec.csv\"\n",
    "df = pd.read_csv(path)"
   ]
  },
  {
   "cell_type": "code",
   "execution_count": 14,
   "metadata": {},
   "outputs": [],
   "source": [
    "# Separate the features and label of the dataset\n",
    "\n",
    "X = df.copy()\n",
    "X.drop(['class'], inplace=True, axis=1) # Features\n",
    "y = df['class'] # Label\n",
    "\n",
    "# Split data into training and testing\n",
    "X_train, X_test, y_train, y_test = train_test_split(np.array(X), np.array(y), test_size=0.20)"
   ]
  },
  {
   "cell_type": "markdown",
   "metadata": {
    "jp-MarkdownHeadingCollapsed": true,
    "tags": []
   },
   "source": [
    "# Train and Cross validate"
   ]
  },
  {
   "cell_type": "code",
   "execution_count": 15,
   "metadata": {},
   "outputs": [],
   "source": [
    "# #  use if you want to cross validate your model\n",
    "# skf = StratifiedKFold()\n",
    "# RF = RandomForestClassifier()\n",
    "\n",
    "# lst_accu_stratified = []\n",
    "# for i, (train_index, test_index) in enumerate(skf.split(X_train, y_train)):\n",
    "#     print(f\"Fold {i} running\")\n",
    "#     # print(f\"  Train: index={train_index}\")\n",
    "#     # print(f\"  Test:  index={test_index}\")\n",
    "#     x_train_fold, x_test_fold = X_train[train_index], X_train[test_index]\n",
    "#     y_train_fold, y_test_fold = y_train[train_index], y_train[test_index]\n",
    "#     RF.fit(x_train_fold, y_train_fold)\n",
    "\n",
    "#     lst_accu_stratified.append(RF.score(x_test_fold, y_test_fold))\n",
    "\n",
    "# print('List of possible accuracy:', lst_accu_stratified)\n",
    "# print('\\nMaximum Accuracy That can be obtained from this model is:', max(lst_accu_stratified)*100, '%')\n",
    "# print('\\nMinimum Accuracy:', min(lst_accu_stratified)*100, '%')\n",
    "# print('\\nOverall Accuracy:', mean(lst_accu_stratified)*100, '%')\n",
    "# print('\\nStandard Deviation is:', stdev(lst_accu_stratified))\n"
   ]
  },
  {
   "cell_type": "markdown",
   "metadata": {},
   "source": [
    "# Training and Evaluation\n"
   ]
  },
  {
   "cell_type": "code",
   "execution_count": 16,
   "metadata": {},
   "outputs": [],
   "source": [
    "# Create object of Random Forest Classifier\n",
    "RF = RandomForestClassifier()\n",
    "\n",
    "# Train Random Forest \n",
    "RF.fit(X_train, y_train)\n",
    "\n",
    "# Predict class of testing features\n",
    "y_pred = RF.predict(X_test)\n"
   ]
  },
  {
   "cell_type": "code",
   "execution_count": 17,
   "metadata": {},
   "outputs": [
    {
     "name": "stdout",
     "output_type": "stream",
     "text": [
      "Accuracy: 0.8274302107469933\n",
      "F1-score: 0.7900671140939598\n",
      "Classificaion report:\n",
      "               precision    recall  f1-score   support\n",
      "\n",
      "           0       0.84      0.87      0.85      5226\n",
      "           1       0.81      0.77      0.79      3837\n",
      "\n",
      "    accuracy                           0.83      9063\n",
      "   macro avg       0.83      0.82      0.82      9063\n",
      "weighted avg       0.83      0.83      0.83      9063\n",
      "\n"
     ]
    }
   ],
   "source": [
    "# Show Accuracy, F1-score and Full Classification Report\n",
    "print(f\"Accuracy: {accuracy_score(y_test, y_pred)}\")\n",
    "print(f\"F1-score: {f1_score(y_test, y_pred)}\")\n",
    "print(f\"Classificaion report:\\n {classification_report(y_test, y_pred)}\")"
   ]
  }
 ],
 "metadata": {
  "kernelspec": {
   "display_name": "multiflow",
   "language": "python",
   "name": "multiflow"
  },
  "language_info": {
   "codemirror_mode": {
    "name": "ipython",
    "version": 3
   },
   "file_extension": ".py",
   "mimetype": "text/x-python",
   "name": "python",
   "nbconvert_exporter": "python",
   "pygments_lexer": "ipython3",
   "version": "3.10.6"
  },
  "vscode": {
   "interpreter": {
    "hash": "e35cac1c2a6ef23a5a42fd312fa14acd9a70d4b897ac97cbbaab45bc03013427"
   }
  }
 },
 "nbformat": 4,
 "nbformat_minor": 4
}
