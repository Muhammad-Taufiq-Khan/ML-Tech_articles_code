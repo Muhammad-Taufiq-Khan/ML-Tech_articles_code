{
 "cells": [
  {
   "cell_type": "markdown",
   "metadata": {},
   "source": [
    "# Dependencies"
   ]
  },
  {
   "cell_type": "code",
   "execution_count": 14,
   "metadata": {},
   "outputs": [],
   "source": [
    "from skmultiflow.data import FileStream\n",
    "from skmultiflow.bayes import NaiveBayes\n",
    "from skmultiflow.lazy import KNNADWINClassifier\n",
    "from skmultiflow.meta import AdaptiveRandomForestClassifier\n",
    "from skmultiflow.evaluation import EvaluatePrequential"
   ]
  },
  {
   "cell_type": "markdown",
   "metadata": {},
   "source": [
    "# Fetch dataset as data stream"
   ]
  },
  {
   "cell_type": "code",
   "execution_count": 15,
   "metadata": {},
   "outputs": [],
   "source": [
    "# fetch data from GitHub as data stream \n",
    "path = \"https://raw.githubusercontent.com/scikit-multiflow/streaming-datasets/master/elec.csv\"\n",
    "stream = FileStream(path)"
   ]
  },
  {
   "cell_type": "markdown",
   "metadata": {},
   "source": [
    "# Preprare Classifiers and Evaluator"
   ]
  },
  {
   "cell_type": "code",
   "execution_count": 16,
   "metadata": {},
   "outputs": [],
   "source": [
    "# create object for Naive Bayes, K-nearest Neighbor Classifier, and Adaptive Random Forest Classifier\n",
    "nb = NaiveBayes()\n",
    "knn = KNNADWINClassifier()\n",
    "arf = AdaptiveRandomForestClassifier()\n",
    "\n",
    "# evaluator\n",
    "size = stream.n_remaining_samples()\n",
    "evaluator = EvaluatePrequential(batch_size=200, \n",
    "                                pretrain_size=1000, \n",
    "                                max_samples=size, \n",
    "                                metrics=['accuracy','precision','recall', 'f1'],\n",
    "                                show_plot=False, \n",
    "                                data_points_for_classification=False)\n"
   ]
  },
  {
   "cell_type": "markdown",
   "metadata": {},
   "source": [
    "# Training Incremental Model"
   ]
  },
  {
   "cell_type": "markdown",
   "metadata": {},
   "source": [
    "## Single K-nearest Neighbor Model"
   ]
  },
  {
   "cell_type": "code",
   "execution_count": 17,
   "metadata": {},
   "outputs": [
    {
     "name": "stdout",
     "output_type": "stream",
     "text": [
      "Prequential Evaluation\n",
      "Evaluating 1 target(s).\n",
      "Pre-training on 1000 sample(s).\n",
      "Evaluating...\n",
      " #################### [100%] [157.47s]\n",
      "Processed samples: 45400\n",
      "Mean performance:\n",
      "KNN - Accuracy     : 0.7223\n",
      "KNN - Precision: 0.6853\n",
      "KNN - Recall: 0.6351\n",
      "KNN - F1 score: 0.6593\n"
     ]
    },
    {
     "data": {
      "text/plain": [
       "[KNNADWINClassifier(leaf_size=30, max_window_size=1000, metric='euclidean',\n",
       "                    n_neighbors=5)]"
      ]
     },
     "execution_count": 17,
     "metadata": {},
     "output_type": "execute_result"
    }
   ],
   "source": [
    "# Run evalation for single K-nearest Neighbor model\n",
    "evaluator.evaluate(stream = stream, \n",
    "                   model = knn, \n",
    "                   model_names =['KNN'])\n"
   ]
  },
  {
   "cell_type": "markdown",
   "metadata": {},
   "source": [
    "## Single Naive Bayes Model"
   ]
  },
  {
   "cell_type": "code",
   "execution_count": 18,
   "metadata": {},
   "outputs": [
    {
     "name": "stdout",
     "output_type": "stream",
     "text": [
      "Prequential Evaluation\n",
      "Evaluating 1 target(s).\n",
      "Pre-training on 1000 sample(s).\n",
      "Evaluating...\n",
      " #################### [100%] [8.64s]\n",
      "Processed samples: 45400\n",
      "Mean performance:\n",
      "NB - Accuracy     : 0.7319\n",
      "NB - Precision: 0.8336\n",
      "NB - Recall: 0.4574\n",
      "NB - F1 score: 0.5907\n"
     ]
    },
    {
     "data": {
      "text/plain": [
       "[NaiveBayes(nominal_attributes=None)]"
      ]
     },
     "execution_count": 18,
     "metadata": {},
     "output_type": "execute_result"
    }
   ],
   "source": [
    "# # Run evalation for single Naive Bayes model\n",
    "evaluator.evaluate(stream = stream, model = nb, model_names =['NB'])"
   ]
  },
  {
   "cell_type": "markdown",
   "metadata": {},
   "source": [
    "## Adaptive Random Forest Model"
   ]
  },
  {
   "cell_type": "code",
   "execution_count": 6,
   "metadata": {},
   "outputs": [
    {
     "name": "stdout",
     "output_type": "stream",
     "text": [
      "Prequential Evaluation\n",
      "Evaluating 1 target(s).\n",
      "Pre-training on 1000 sample(s).\n",
      "Evaluating...\n"
     ]
    },
    {
     "name": "stderr",
     "output_type": "stream",
     "text": [
      "/home/taufiq/Desktop/vs code workspace/Incremental_ML/multiflow/lib/python3.10/site-packages/skmultiflow/meta/adaptive_random_forests.py:398: VisibleDeprecationWarning: Creating an ndarray from ragged nested sequences (which is a list-or-tuple of lists-or-tuples-or ndarrays with different lengths or shapes) is deprecated. If you meant to do this, you must specify 'dtype=object' when creating the ndarray.\n",
      "  y_proba = np.asarray(y_proba)\n"
     ]
    },
    {
     "name": "stdout",
     "output_type": "stream",
     "text": [
      " #################### [100%] [827.70s]\n",
      "Processed samples: 45400\n",
      "Mean performance:\n",
      "RF - Accuracy     : 0.7887\n",
      "RF - Precision: 0.7745\n",
      "RF - Recall: 0.7061\n",
      "RF - F1 score: 0.7387\n"
     ]
    },
    {
     "data": {
      "text/plain": [
       "[AdaptiveRandomForestClassifier(binary_split=False, disable_weighted_vote=False,\n",
       "                                drift_detection_method=ADWIN(delta=0.001),\n",
       "                                grace_period=50, lambda_value=6,\n",
       "                                leaf_prediction='nba', max_byte_size=33554432,\n",
       "                                max_features=2, memory_estimate_period=2000000,\n",
       "                                n_estimators=10, nb_threshold=0,\n",
       "                                no_preprune=False, nominal_attributes=None,\n",
       "                                performance_metric='acc', random_state=None,\n",
       "                                remove_poor_atts=False, split_confidence=0.01,\n",
       "                                split_criterion='info_gain',\n",
       "                                stop_mem_management=False, tie_threshold=0.05,\n",
       "                                warning_detection_method=ADWIN(delta=0.01))]"
      ]
     },
     "execution_count": 6,
     "metadata": {},
     "output_type": "execute_result"
    }
   ],
   "source": [
    "evaluator.evaluate(stream = stream, \n",
    "                   model = arf, \n",
    "                   model_names = [\"RF\"])"
   ]
  },
  {
   "cell_type": "markdown",
   "metadata": {},
   "source": [
    "## Compare among K-nearest Neighbor, Naive Bayes and Adaptive Random Forest classifier"
   ]
  },
  {
   "cell_type": "code",
   "execution_count": 7,
   "metadata": {},
   "outputs": [
    {
     "name": "stdout",
     "output_type": "stream",
     "text": [
      "Prequential Evaluation\n",
      "Evaluating 1 target(s).\n",
      "Pre-training on 1000 sample(s).\n",
      "Evaluating...\n",
      " #################### [100%] [1167.83s]\n",
      "Processed samples: 45400\n",
      "Mean performance:\n",
      "KNN - Accuracy     : 0.7223\n",
      "KNN - Precision: 0.6853\n",
      "KNN - Recall: 0.6351\n",
      "KNN - F1 score: 0.6593\n",
      "NB - Accuracy     : 0.7235\n",
      "NB - Precision: 0.8919\n",
      "NB - Recall: 0.3941\n",
      "NB - F1 score: 0.5466\n",
      "RF - Accuracy     : 0.7855\n",
      "RF - Precision: 0.7684\n",
      "RF - Recall: 0.7056\n",
      "RF - F1 score: 0.7357\n"
     ]
    },
    {
     "data": {
      "text/plain": [
       "[KNNADWINClassifier(leaf_size=30, max_window_size=1000, metric='euclidean',\n",
       "                    n_neighbors=5),\n",
       " NaiveBayes(nominal_attributes=None),\n",
       " AdaptiveRandomForestClassifier(binary_split=False, disable_weighted_vote=False,\n",
       "                                drift_detection_method=ADWIN(delta=0.001),\n",
       "                                grace_period=50, lambda_value=6,\n",
       "                                leaf_prediction='nba', max_byte_size=33554432,\n",
       "                                max_features=2, memory_estimate_period=2000000,\n",
       "                                n_estimators=10, nb_threshold=0,\n",
       "                                no_preprune=False, nominal_attributes=None,\n",
       "                                performance_metric='acc', random_state=None,\n",
       "                                remove_poor_atts=False, split_confidence=0.01,\n",
       "                                split_criterion='info_gain',\n",
       "                                stop_mem_management=False, tie_threshold=0.05,\n",
       "                                warning_detection_method=ADWIN(delta=0.01))]"
      ]
     },
     "execution_count": 7,
     "metadata": {},
     "output_type": "execute_result"
    }
   ],
   "source": [
    "# # Run evaluation and compare two model\n",
    "evaluator.evaluate(stream=stream, \n",
    "                   model=[knn, nb, arf], \n",
    "                   model_names=['KNN','NB','RF'])"
   ]
  },
  {
   "cell_type": "markdown",
   "metadata": {},
   "source": [
    "## Training Naive Bayes model without built-in evaluator"
   ]
  },
  {
   "cell_type": "code",
   "execution_count": 8,
   "metadata": {},
   "outputs": [
    {
     "name": "stdout",
     "output_type": "stream",
     "text": [
      "Performance of Naive Bayes classifer\n",
      "45312 samples analyzed.\n",
      "Accuracy: 0.72704802259887\n"
     ]
    }
   ],
   "source": [
    "# Setup variables to control loop and track performance\n",
    "n_samples = 0\n",
    "correct_cnt = 0\n",
    "max_samples = size\n",
    "\n",
    "# Train the estimator with the samples provided by the data stream\n",
    "while n_samples < max_samples and stream.has_more_samples():\n",
    "    X, y = stream.next_sample()\n",
    "    y_pred = nb.predict(X)\n",
    "    if y[0] == y_pred[0]:\n",
    "        correct_cnt += 1\n",
    "    nb.partial_fit(X, y)\n",
    "    n_samples += 1\n",
    "\n",
    "# Display results\n",
    "print('Performance of Naive Bayes classifer')\n",
    "print('{} samples analyzed.'.format(n_samples))\n",
    "print('Accuracy: {}'.format(correct_cnt / n_samples))"
   ]
  }
 ],
 "metadata": {
  "kernelspec": {
   "display_name": "multiflow",
   "language": "python",
   "name": "multiflow"
  },
  "language_info": {
   "codemirror_mode": {
    "name": "ipython",
    "version": 3
   },
   "file_extension": ".py",
   "mimetype": "text/x-python",
   "name": "python",
   "nbconvert_exporter": "python",
   "pygments_lexer": "ipython3",
   "version": "3.10.6"
  },
  "vscode": {
   "interpreter": {
    "hash": "916dbcbb3f70747c44a77c7bcd40155683ae19c65e1c03b4aa3499c5328201f1"
   }
  }
 },
 "nbformat": 4,
 "nbformat_minor": 4
}
